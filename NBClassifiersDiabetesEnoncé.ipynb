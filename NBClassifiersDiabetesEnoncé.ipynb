{
 "cells": [
  {
   "cell_type": "markdown",
   "id": "4b61a8cb-ce28-4327-acd3-be377efe9346",
   "metadata": {},
   "source": [
    "1. Importation des bibliothèques nécessaires"
   ]
  },
  {
   "cell_type": "code",
   "execution_count": 426,
   "id": "d73df175-bb1d-4ba1-afbb-1a3b78f38aa8",
   "metadata": {
    "scrolled": true
   },
   "outputs": [],
   "source": [
    "# Importation des bibliothèques nécessaires\n",
    "import pandas as pd\n",
    "import numpy as np\n",
    "from sklearn.model_selection import train_test_split\n",
    "from sklearn.preprocessing import LabelEncoder, StandardScaler\n",
    "from sklearn.naive_bayes import GaussianNB\n",
    "from sklearn.metrics import accuracy_score, classification_report, confusion_matrix, log_loss, precision_score, recall_score, f1_score\n",
    "import seaborn as sns\n",
    "import matplotlib.pyplot as plt\n",
    "\n"
   ]
  },
  {
   "cell_type": "markdown",
   "id": "413ec470-863d-4d7f-a4bb-2fa054074495",
   "metadata": {},
   "source": [
    "2. Chargement des données :\n",
    "Charger un fichier CSV (ici appelé 'Diabetes.csv') dans un DataFrame pandas.\n"
   ]
  },
  {
   "cell_type": "code",
   "execution_count": 357,
   "id": "659b91e2-3931-45c4-b79e-4913d5672637",
   "metadata": {
    "scrolled": true
   },
   "outputs": [
    {
     "data": {
      "text/html": [
       "<div>\n",
       "<style scoped>\n",
       "    .dataframe tbody tr th:only-of-type {\n",
       "        vertical-align: middle;\n",
       "    }\n",
       "\n",
       "    .dataframe tbody tr th {\n",
       "        vertical-align: top;\n",
       "    }\n",
       "\n",
       "    .dataframe thead th {\n",
       "        text-align: right;\n",
       "    }\n",
       "</style>\n",
       "<table border=\"1\" class=\"dataframe\">\n",
       "  <thead>\n",
       "    <tr style=\"text-align: right;\">\n",
       "      <th></th>\n",
       "      <th>glucose</th>\n",
       "      <th>bloodpressure</th>\n",
       "      <th>diabetes</th>\n",
       "    </tr>\n",
       "  </thead>\n",
       "  <tbody>\n",
       "    <tr>\n",
       "      <th>0</th>\n",
       "      <td>40</td>\n",
       "      <td>85</td>\n",
       "      <td>0</td>\n",
       "    </tr>\n",
       "    <tr>\n",
       "      <th>1</th>\n",
       "      <td>40</td>\n",
       "      <td>?</td>\n",
       "      <td>0</td>\n",
       "    </tr>\n",
       "    <tr>\n",
       "      <th>2</th>\n",
       "      <td>45</td>\n",
       "      <td>63</td>\n",
       "      <td>1</td>\n",
       "    </tr>\n",
       "    <tr>\n",
       "      <th>3</th>\n",
       "      <td>45</td>\n",
       "      <td>80</td>\n",
       "      <td>0</td>\n",
       "    </tr>\n",
       "    <tr>\n",
       "      <th>4</th>\n",
       "      <td>40</td>\n",
       "      <td>73</td>\n",
       "      <td>1</td>\n",
       "    </tr>\n",
       "  </tbody>\n",
       "</table>\n",
       "</div>"
      ],
      "text/plain": [
       "  glucose bloodpressure  diabetes\n",
       "0      40            85         0\n",
       "1      40             ?         0\n",
       "2      45            63         1\n",
       "3      45            80         0\n",
       "4      40            73         1"
      ]
     },
     "execution_count": 357,
     "metadata": {},
     "output_type": "execute_result"
    }
   ],
   "source": [
    " "
   ]
  },
  {
   "cell_type": "markdown",
   "id": "6873c710-bbd7-43dc-8bd0-178cbd38c25b",
   "metadata": {},
   "source": [
    "3. Vérification de la distribution de la variable cible :\n",
    "Cette étape permet de visualiser en utilisant {sns.countplot} combien d'instances dans le jeu de données appartiennent à chaque catégorie de la variable cible 'diabetes'. Ici, on vérifie si les classes (par exemple, 'diabétique' et 'non diabétique') sont équilibrées ou déséquilibrées, c'est-à-dire si l'une des catégories a beaucoup plus d'occurrences que l'autre."
   ]
  },
  {
   "cell_type": "code",
   "execution_count": 358,
   "id": "697833f4-9c58-4927-85cb-bf8030912455",
   "metadata": {},
   "outputs": [
    {
     "data": {
      "image/png": "[encoded data removed]",
      "text/plain": [
       "<Figure size 500x500 with 1 Axes>"
      ]
     },
     "metadata": {},
     "output_type": "display_data"
    }
   ],
   "source": [
    " #Vérification de la distribution de la variable cible\n",
    "\n",
    "plt.figure(figsize=(5,5))\n",
    "#Code Here\n",
    "\n",
    "#Code Here\n",
    "\n",
    "plt.title(\"Diabetes feature distribution\")\n",
    "plt.show()"
   ]
  },
  {
   "cell_type": "markdown",
   "id": "11a111bc-7fdc-4a16-b347-3823a38c5f93",
   "metadata": {},
   "source": [
    "3. Prétraitement des données:  Vous disposez d'un DataFrame df qui contient les données du fichier 'Diabetes.csv'. Certaines valeurs manquantes sont représentées par le symbole '?'. Votre tâche consiste à :\n",
    "\n",
    "a. Remplacer ces valeurs manquantes par NaN (valeur manquante standard en Python).\n",
    "\n",
    "b. Supprimer les lignes qui contiennent des valeurs manquantes après le remplacement."
   ]
  },
  {
   "cell_type": "code",
   "execution_count": 359,
   "id": "4380dffa-2080-4ce4-a153-6952194235fc",
   "metadata": {},
   "outputs": [],
   "source": [
    "\n",
    "df.replace(\n",
    "    #code Here#\n",
    ")\n",
    "df.dropna(inplace=True)"
   ]
  },
  {
   "cell_type": "markdown",
   "id": "1d9a144c-853e-4e0a-9bc1-2a8ce683408e",
   "metadata": {},
   "source": [
    "Afficher les premières lignes :"
   ]
  },
  {
   "cell_type": "code",
   "execution_count": 360,
   "id": "70321638-e3ce-428b-b822-2ed456f62b81",
   "metadata": {},
   "outputs": [
    {
     "data": {
      "text/html": [
       "<div>\n",
       "<style scoped>\n",
       "    .dataframe tbody tr th:only-of-type {\n",
       "        vertical-align: middle;\n",
       "    }\n",
       "\n",
       "    .dataframe tbody tr th {\n",
       "        vertical-align: top;\n",
       "    }\n",
       "\n",
       "    .dataframe thead th {\n",
       "        text-align: right;\n",
       "    }\n",
       "</style>\n",
       "<table border=\"1\" class=\"dataframe\">\n",
       "  <thead>\n",
       "    <tr style=\"text-align: right;\">\n",
       "      <th></th>\n",
       "      <th>glucose</th>\n",
       "      <th>bloodpressure</th>\n",
       "      <th>diabetes</th>\n",
       "    </tr>\n",
       "  </thead>\n",
       "  <tbody>\n",
       "    <tr>\n",
       "      <th>0</th>\n",
       "      <td>40</td>\n",
       "      <td>85</td>\n",
       "      <td>0</td>\n",
       "    </tr>\n",
       "    <tr>\n",
       "      <th>2</th>\n",
       "      <td>45</td>\n",
       "      <td>63</td>\n",
       "      <td>1</td>\n",
       "    </tr>\n",
       "    <tr>\n",
       "      <th>3</th>\n",
       "      <td>45</td>\n",
       "      <td>80</td>\n",
       "      <td>0</td>\n",
       "    </tr>\n",
       "    <tr>\n",
       "      <th>4</th>\n",
       "      <td>40</td>\n",
       "      <td>73</td>\n",
       "      <td>1</td>\n",
       "    </tr>\n",
       "    <tr>\n",
       "      <th>5</th>\n",
       "      <td>45</td>\n",
       "      <td>82</td>\n",
       "      <td>0</td>\n",
       "    </tr>\n",
       "  </tbody>\n",
       "</table>\n",
       "</div>"
      ],
      "text/plain": [
       "  glucose bloodpressure  diabetes\n",
       "0      40            85         0\n",
       "2      45            63         1\n",
       "3      45            80         0\n",
       "4      40            73         1\n",
       "5      45            82         0"
      ]
     },
     "execution_count": 360,
     "metadata": {},
     "output_type": "execute_result"
    }
   ],
   "source": [
    "\n",
    "df.shape\n",
    "df.head()"
   ]
  },
  {
   "cell_type": "markdown",
   "id": "a4aa67ef-bd4c-4749-8c3e-3ef4e1c2dc68",
   "metadata": {},
   "source": [
    "Obtenir un résumé concis du DataFrame: "
   ]
  },
  {
   "cell_type": "code",
   "execution_count": 361,
   "id": "e2ab054d-7eae-4a38-8d43-d1678b33bab5",
   "metadata": {},
   "outputs": [
    {
     "name": "stdout",
     "output_type": "stream",
     "text": [
      "<class 'pandas.core.frame.DataFrame'>\n",
      "Index: 989 entries, 0 to 994\n",
      "Data columns (total 3 columns):\n",
      " #   Column         Non-Null Count  Dtype \n",
      "---  ------         --------------  ----- \n",
      " 0   glucose        989 non-null    object\n",
      " 1   bloodpressure  989 non-null    object\n",
      " 2   diabetes       989 non-null    int64 \n",
      "dtypes: int64(1), object(2)\n",
      "memory usage: 30.9+ KB\n"
     ]
    }
   ],
   "source": [
    "\n",
    "df.info()"
   ]
  },
  {
   "cell_type": "markdown",
   "id": "9342eeb4-bcb9-40aa-8a9a-2237f011ceba",
   "metadata": {},
   "source": [
    "4. Séparation des variables indépendantes (X) et dépendante (y) :\n",
    "\n",
    "X contiendra toutes les colonnes sauf 'diabetes', ce qui représente les caractéristiques ou les variables indépendantes qui seront utilisées pour prédire la variable cible, y contiendra uniquement les valeurs de la colonne 'diabetes', qui seront utilisées comme sortie pour le modèle.  \n"
   ]
  },
  {
   "cell_type": "code",
   "execution_count": 397,
   "id": "c84e2cad-3c1d-4dde-b3b5-0f8b67647f4f",
   "metadata": {},
   "outputs": [],
   "source": [
    "X =  #code Here#  # Variables indépendantes\n",
    "y =  #code Here# # Variable cible (revenu)"
   ]
  },
  {
   "cell_type": "markdown",
   "id": "bd5ef169-71ca-474d-9328-0001dc80ab54",
   "metadata": {},
   "source": [
    "5. Séparation des ensembles d'entraînement et de test"
   ]
  },
  {
   "cell_type": "code",
   "execution_count": 403,
   "id": "a55818b7-836c-451f-8d1a-50fac3323b31",
   "metadata": {},
   "outputs": [
    {
     "data": {
      "text/plain": [
       "array([1, 0, 0, 0, 1, 1, 1, 0, 1, 1, 0, 1, 0, 0, 0, 0, 0, 0, 1, 0, 0, 1,\n",
       "       1, 1, 0, 1, 0, 1, 0, 0, 1, 0, 0, 1, 0, 1, 1, 1, 0, 0, 0, 1, 0, 0,\n",
       "       0, 0, 1, 0, 1, 1, 1, 1, 1, 1, 0, 1, 0, 0, 1, 1, 1, 0, 0, 1, 0, 0,\n",
       "       0, 0, 1, 0, 0, 0, 0, 0, 1, 0, 1, 0, 1, 1, 0, 1, 1, 1, 1, 1, 1, 1,\n",
       "       1, 1, 0, 0, 0, 0, 1, 1, 1, 1, 1, 1, 1, 1, 1, 1, 1, 0, 1, 1, 0, 1,\n",
       "       1, 0, 0, 1, 0, 1, 0, 1, 0, 0, 1, 0, 1, 1, 1, 1, 1, 1, 0, 1, 0, 1,\n",
       "       1, 0, 1, 0, 0, 0, 0, 1, 1, 1, 1, 1, 1, 0, 1, 1, 0, 1, 0, 0, 0, 0,\n",
       "       1, 0, 1, 1, 1, 1, 0, 0, 0, 1, 1, 0, 0, 1, 0, 1, 0, 0, 1, 0, 1, 1,\n",
       "       0, 0, 1, 0, 1, 0, 0, 0, 0, 1, 1, 0, 0, 0, 1, 0, 1, 1, 0, 1, 1, 1,\n",
       "       1, 1, 0, 1, 0, 0, 0, 1, 1, 1, 0, 1, 1, 0, 0, 1, 0, 0, 1, 1, 1, 0,\n",
       "       0, 1, 1, 1, 1, 0, 1, 1, 1, 0, 1, 1, 1, 1, 1, 0, 0, 1, 1, 0, 0, 1,\n",
       "       0, 0, 1, 0, 0, 0, 0, 0, 1, 1, 1, 0, 1, 0, 0, 1, 1, 0, 1, 0, 1, 1,\n",
       "       1, 1, 1, 1, 1, 1, 0, 1, 1, 0, 0, 0, 0, 1, 1, 0, 0, 1, 0, 1, 1, 0,\n",
       "       0, 1, 1, 0, 1, 1, 1, 0, 1, 1, 1], dtype=int64)"
      ]
     },
     "execution_count": 403,
     "metadata": {},
     "output_type": "execute_result"
    }
   ],
   "source": [
    "\n",
    "#  Séparation des ensembles d'entraînement et de test\n",
    "\n",
    " #code Here#\n"
   ]
  },
  {
   "cell_type": "markdown",
   "id": "01a6595c-422e-44b8-8b13-d18ddfe99afc",
   "metadata": {},
   "source": [
    "6. Entraîner un classificateur Naive Bayes gaussien {GaussianNB()} sur l'ensemble d'entraînement."
   ]
  },
  {
   "cell_type": "code",
   "execution_count": null,
   "id": "34f8820d-c871-4cb5-9799-9536ad8326ac",
   "metadata": {},
   "outputs": [],
   "source": [
    "\n",
    "gnb = GaussianNB()\n",
    "gnb.fit(X_train, y_train)\n",
    "y_pred = gnb.predict(X_test)\n",
    "y_pred\n"
   ]
  },
  {
   "cell_type": "markdown",
   "id": "2f578e68-5560-4835-96c0-9567b15a7187",
   "metadata": {},
   "source": [
    "7.  Prédictions sur l'ensemble de test"
   ]
  },
  {
   "cell_type": "code",
   "execution_count": 404,
   "id": "e2e51683-7711-403f-a10f-26664459949c",
   "metadata": {},
   "outputs": [],
   "source": [
    "\n",
    "y_pred_prob =  #code Here#\n",
    "\n"
   ]
  },
  {
   "cell_type": "markdown",
   "id": "1c6fa9a9-552b-4630-9db0-529fdfc940e7",
   "metadata": {},
   "source": [
    "8.  La fonction evaluate_model a pour but de calculer et d'afficher plusieurs métriques de performance d'un modèle de classification, ainsi que d'afficher un rapport de classification. Elle prend en entrée les valeurs réelles (cibles) et les valeurs prédites par le modèle, ainsi que les probabilités prédites pour le calcul de la fonction de perte (log loss).\n",
    "\n",
    "a. Paramètres d'entrée :\n",
    "y_true : Un tableau ou une série contenant les valeurs réelles (cibles) de la variable dépendante (ici, la variable que le modèle essaie de prédire).\n",
    "\n",
    "y_pred : Un tableau ou une série contenant les valeurs prédites par le modèle. Ce sont les prédictions que le modèle a faites sur l'ensemble de test.\n",
    "\n",
    "y_pred_prob : Un tableau contenant les probabilités prédites associées aux classes. Celles-ci sont utilisées pour calculer la fonction de perte (log loss).\n",
    "\n",
    "b. Calcul des métriques :\n",
    "accuracy : Calculée à l'aide de accuracy_score, qui mesure le pourcentage de prédictions correctes parmi toutes les prédictions.\n",
    "\n",
    "precision : Calculée à l'aide de precision_score, qui mesure la précision des prédictions positives. Ici, l'argument average='weighted' est utilisé pour tenir compte de l'équilibre des classes.\n",
    "\n",
    "recall : Calculée à l'aide de recall_score, qui mesure la capacité du modèle à identifier toutes les instances positives (vrais positifs). Comme pour la précision, average='weighted' est utilisé.\n",
    "\n",
    "f1 : Calculée à l'aide de f1_score, qui combine la précision et le rappel en une seule métrique en utilisant la moyenne harmonique. Elle est utile lorsque vous avez des classes déséquilibrées."
   ]
  },
  {
   "cell_type": "code",
   "execution_count": 427,
   "id": "fafc9c0d-8706-450e-8e7c-cb7cd71abe8f",
   "metadata": {},
   "outputs": [],
   "source": [
    "\n",
    "# Fonction pour calculer les métriques et la fonction de perte\n",
    "def evaluate_model(y_true, y_pred, y_pred_prob):\n",
    "    accuracy = accuracy_score(y_true, y_pred)\n",
    "    precision = precision_score( #code Here#)\n",
    "    recall = recall_score( #code Here#)\n",
    "    f1 = f1_score( #code Here#)\n",
    "    logloss = log_loss( #code Here#)\n",
    "    print(f\"Accuracy: {accuracy:.2f}\")\n",
    "    print(f\"Precision: {precision:.2f}\")\n",
    "    print(f\"Recall: {recall:.2f}\")\n",
    "    print(f\"F1 Score: {f1:.2f}\")\n",
    "    \n",
    "    print(\"\\nClassification Report:\")\n",
    "    print(classification_report(y_true, y_pred))\n",
    "    \n",
    "    return accuracy, precision, recall, f1\n",
    "  "
   ]
  },
  {
   "cell_type": "markdown",
   "id": "46f3c561-f312-46b3-b4a2-a18a36a24706",
   "metadata": {},
   "source": [
    "\n",
    "9. Calcul des métriques"
   ]
  },
  {
   "cell_type": "code",
   "execution_count": 428,
   "id": "f295c728-f1b8-4352-8f56-5818d2ddaed2",
   "metadata": {},
   "outputs": [
    {
     "name": "stdout",
     "output_type": "stream",
     "text": [
      "Accuracy: 0.95\n",
      "Precision: 0.95\n",
      "Recall: 0.95\n",
      "F1 Score: 0.95\n",
      "\n",
      "Classification Report:\n",
      "              precision    recall  f1-score   support\n",
      "\n",
      "           0       0.96      0.92      0.94       140\n",
      "           1       0.93      0.97      0.95       157\n",
      "\n",
      "    accuracy                           0.95       297\n",
      "   macro avg       0.95      0.94      0.95       297\n",
      "weighted avg       0.95      0.95      0.95       297\n",
      "\n"
     ]
    },
    {
     "data": {
      "text/plain": [
       "(0.9461279461279462,\n",
       " 0.9467374659206907,\n",
       " 0.9461279461279462,\n",
       " 0.9460431566270983)"
      ]
     },
     "execution_count": 428,
     "metadata": {},
     "output_type": "execute_result"
    }
   ],
   "source": [
    "\n",
    "evaluate_model(y_test, y_pred, y_pred_prob)\n"
   ]
  },
  {
   "cell_type": "markdown",
   "id": "0f14047f-93f5-42fb-8522-9eadd7ec065f",
   "metadata": {},
   "source": [
    "10 . Calculer la matrice de confusion"
   ]
  },
  {
   "cell_type": "code",
   "execution_count": 429,
   "id": "1b93fdaf-ef5b-4631-b319-b2ffae049732",
   "metadata": {},
   "outputs": [
    {
     "data": {
      "image/png": "[encoded data removed]",
      "text/plain": [
       "<Figure size 800x600 with 1 Axes>"
      ]
     },
     "metadata": {},
     "output_type": "display_data"
    }
   ],
   "source": [
    "\n",
    "cm = confusion_matrix(y_test, y_pred)\n",
    "\n",
    "# Affichage de la matrice de confusion avec Seaborn\n",
    "plt.figure(figsize=(8,6))\n",
    "sns.heatmap(cm, annot=True, fmt='d', cmap='Blues', cbar=False, xticklabels=['Classe 0', 'Classe 1'], yticklabels=['Classe 0', 'Classe 1'])\n",
    "plt.xlabel('Prédictions')\n",
    "plt.ylabel('Vraies valeurs')\n",
    "plt.title('Matrice de Confusion')\n",
    "plt.show()"
   ]
  },
  {
   "cell_type": "markdown",
   "id": "4251a8ce-c04a-4285-b99d-cf044c5829d0",
   "metadata": {},
   "source": [
    "11. Calculer le risque empirique du modèle : en utilisant la fonction {cross_entropy_loss}"
   ]
  },
  {
   "cell_type": "code",
   "execution_count": null,
   "id": "642a41ee-39fd-4ca9-ac89-afbd6445080a",
   "metadata": {},
   "outputs": [],
   "source": [
    " \n",
    "# Evaluate using log loss (cross-entropy)\n",
    "cross_entropy_loss = #code here#\n",
    "\n",
    "# Calculate empirical risk\n",
    "empirical_risk = cross_entropy_loss\n",
    "print('Empirical Risk (Cross-Entropy Loss):',empirical_risk)"
   ]
  }
 ],
 "metadata": {
  "kernelspec": {
   "display_name": "Python 3 (ipykernel)",
   "language": "python",
   "name": "python3"
  },
  "language_info": {
   "codemirror_mode": {
    "name": "ipython",
    "version": 3
   },
   "file_extension": ".py",
   "mimetype": "text/x-python",
   "name": "python",
   "nbconvert_exporter": "python",
   "pygments_lexer": "ipython3",
   "version": "3.11.7"
  }
 },
 "nbformat": 4,
 "nbformat_minor": 5
}
